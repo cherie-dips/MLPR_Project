{
 "cells": [
  {
   "cell_type": "code",
   "execution_count": 1,
   "id": "d70e071d-4464-4b4b-b8b0-824c1f87cff3",
   "metadata": {},
   "outputs": [],
   "source": [
    "import numpy as np\n",
    "import matplotlib.pyplot as plt\n",
    "import pandas as pd"
   ]
  },
  {
   "cell_type": "markdown",
   "id": "a7333387-0e81-4031-a871-0ca7c4e7b3af",
   "metadata": {},
   "source": [
    "#### Generating CSV"
   ]
  },
  {
   "cell_type": "code",
   "execution_count": 2,
   "id": "c0b05da9-96ab-4d4c-b315-bd1d5695f22e",
   "metadata": {},
   "outputs": [
    {
     "name": "stdout",
     "output_type": "stream",
     "text": [
      "✅ CSV file 'hydrogel_dataset.csv' generated with corrected timestamps.\n"
     ]
    }
   ],
   "source": [
    "import pandas as pd\n",
    "\n",
    "# Actual hydrogel degradation timepoints (in hours)\n",
    "actual_hours = [0, 24, 30, 48, 72, 95, 120, 168, 192, 216, 264]\n",
    "\n",
    "data = []\n",
    "global_well_id = 1\n",
    "\n",
    "for pH in [5, 6, 7, 8]:\n",
    "    for local_well in range(1, 49):  # 48 wells per pH\n",
    "        row = {\n",
    "            'Well': global_well_id,\n",
    "            'pH': pH\n",
    "        }\n",
    "        for i, hour in enumerate(actual_hours):\n",
    "            day_col = f'Day {i + 1}'  # Still name it Day 1 to Day 11\n",
    "            filename = f'cropped_{hour}hr_pH{pH}_W{local_well}.JPG'\n",
    "            row[day_col] = filename\n",
    "        data.append(row)\n",
    "        global_well_id += 1\n",
    "\n",
    "df = pd.DataFrame(data)\n",
    "df.to_csv(\"hydrogel_dataset.csv\", index=False)\n",
    "print(\"✅ CSV file 'hydrogel_dataset.csv' generated with corrected timestamps.\")\n",
    "\n"
   ]
  },
  {
   "cell_type": "markdown",
   "id": "de8bc6bd-9249-4e71-ab7e-6d0c059d1693",
   "metadata": {},
   "source": [
    "#### Separate CSVs"
   ]
  },
  {
   "cell_type": "code",
   "execution_count": 3,
   "id": "5d5168eb-4707-4275-a1d8-c6a36645c5fe",
   "metadata": {},
   "outputs": [
    {
     "name": "stdout",
     "output_type": "stream",
     "text": [
      "5    48\n",
      "6    48\n",
      "7    48\n",
      "8    48\n",
      "Name: pH, dtype: int64\n",
      "Train size: (132, 13)\n",
      "Val size: (20, 13)\n",
      "Test size: (40, 13)\n"
     ]
    }
   ],
   "source": [
    "df = pd.read_csv(\"hydrogel_dataset.csv\")\n",
    "\n",
    "\n",
    "print(df['pH'].value_counts())\n",
    "\n",
    "\n",
    "test_df = df.groupby('pH', group_keys=False).apply(lambda x: x.sample(n=10, random_state=42))\n",
    "\n",
    "\n",
    "remaining_df = df.drop(test_df.index)\n",
    "\n",
    "\n",
    "train_df = remaining_df.groupby('pH', group_keys=False).apply(lambda x: x.sample(n=33, random_state=42))\n",
    "\n",
    "\n",
    "val_df = remaining_df.drop(train_df.index)\n",
    "\n",
    "\n",
    "train_df = train_df.reset_index(drop=True)\n",
    "val_df = val_df.reset_index(drop=True)\n",
    "test_df = test_df.reset_index(drop=True)\n",
    "\n",
    "print(\"Train size:\", train_df.shape)\n",
    "print(\"Val size:\", val_df.shape)\n",
    "print(\"Test size:\", test_df.shape)\n",
    "\n",
    "train_df.to_csv(\"train.csv\", index=False)\n",
    "val_df.to_csv(\"val.csv\", index=False)\n",
    "test_df.to_csv(\"test.csv\", index=False)\n"
   ]
  },
  {
   "cell_type": "code",
   "execution_count": 4,
   "id": "14c556a1-f901-4911-b023-11227f847d64",
   "metadata": {},
   "outputs": [],
   "source": [
    "train_df = pd.read_csv('train.csv')\n",
    "test_df = pd.read_csv('test.csv')\n",
    "val_df = pd.read_csv('val.csv')"
   ]
  },
  {
   "cell_type": "markdown",
   "id": "bcb41acb-76ca-4e5c-896c-a84ba315d5fa",
   "metadata": {},
   "source": [
    "#### RESNET + LSTM MODEL "
   ]
  },
  {
   "cell_type": "code",
   "execution_count": 5,
   "id": "2c253a04-b195-499e-b75f-edbba0ada420",
   "metadata": {},
   "outputs": [],
   "source": [
    "import os\n",
    "import pandas as pd\n",
    "import numpy as np\n",
    "import cv2\n",
    "from tqdm import tqdm\n",
    "import matplotlib.pyplot as plt\n",
    "import torch\n",
    "import torch.nn as nn\n",
    "from torch.utils.data import Dataset, DataLoader\n",
    "from torchvision import models, transforms\n"
   ]
  },
  {
   "cell_type": "code",
   "execution_count": 6,
   "id": "50d6f39f-731a-4f35-979a-cdba55a7851b",
   "metadata": {},
   "outputs": [],
   "source": [
    "transform = transforms.Compose([\n",
    "    transforms.ToPILImage(),\n",
    "    transforms.Resize((224, 224)),\n",
    "    transforms.RandomHorizontalFlip(),\n",
    "    transforms.ColorJitter(brightness=0.2, contrast=0.2),\n",
    "    transforms.ToTensor()\n",
    "])\n"
   ]
  },
  {
   "cell_type": "code",
   "execution_count": 7,
   "id": "a7d29923-e3f7-48bd-8b38-327cd19688c6",
   "metadata": {},
   "outputs": [
    {
     "name": "stderr",
     "output_type": "stream",
     "text": [
      "100%|█████████████████████████████████████████| 132/132 [00:09<00:00, 14.16it/s]\n"
     ]
    }
   ],
   "source": [
    "image_sequences = []\n",
    "labels = []\n",
    "\n",
    "for i, row in tqdm(train_df.iterrows(), total=len(train_df)):\n",
    "    pH = int(row['pH'])\n",
    "    well_sequence = []\n",
    "\n",
    "    for day in row[2:]:  # skip well_num and pH\n",
    "        found = False\n",
    "        for time_folder in os.listdir('Split_Data1/train'):\n",
    "            time_path = os.path.join('Final_Data', time_folder)\n",
    "            if not os.path.isdir(time_path): continue\n",
    "            for pH_folder in os.listdir(time_path):\n",
    "                pH_path = os.path.join(time_path, pH_folder)\n",
    "                if not os.path.isdir(pH_path): continue\n",
    "                img_path = os.path.join(pH_path, day)\n",
    "                if os.path.exists(img_path):\n",
    "                    img = cv2.imread(img_path)\n",
    "                    img = cv2.cvtColor(img, cv2.COLOR_BGR2RGB)\n",
    "                    img = transform(img)\n",
    "                    well_sequence.append(img)\n",
    "                    found = True\n",
    "                    break\n",
    "            if found:\n",
    "                break\n",
    "\n",
    "    if len(well_sequence) == 11:\n",
    "        image_sequences.append(torch.stack(well_sequence))  # (11, 3, 224, 224)\n",
    "        labels.append(pH - 5)  # Convert pH 5-8 to class 0-3\n"
   ]
  },
  {
   "cell_type": "code",
   "execution_count": 8,
   "id": "37fccc8b-1159-4e79-b92d-e59b9fe62699",
   "metadata": {},
   "outputs": [
    {
     "name": "stderr",
     "output_type": "stream",
     "text": [
      "100%|███████████████████████████████████████████| 40/40 [00:02<00:00, 14.18it/s]\n"
     ]
    }
   ],
   "source": [
    "test_image_sequences = []\n",
    "test_labels = []\n",
    "\n",
    "for i, row in tqdm(test_df.iterrows(), total=len(test_df)):\n",
    "    pH = int(row['pH'])\n",
    "    well_sequence = []\n",
    "\n",
    "    for day in row[2:]:  # skip well_num and pH\n",
    "        found = False\n",
    "        for time_folder in os.listdir('Split_Data1/test'):\n",
    "            time_path = os.path.join('Final_Data', time_folder)\n",
    "            if not os.path.isdir(time_path): continue\n",
    "            for pH_folder in os.listdir(time_path):\n",
    "                pH_path = os.path.join(time_path, pH_folder)\n",
    "                if not os.path.isdir(pH_path): continue\n",
    "                img_path = os.path.join(pH_path, day)\n",
    "                if os.path.exists(img_path):\n",
    "                    img = cv2.imread(img_path)\n",
    "                    img = cv2.cvtColor(img, cv2.COLOR_BGR2RGB)\n",
    "                    img = transform(img)\n",
    "                    well_sequence.append(img)\n",
    "                    found = True\n",
    "                    break\n",
    "            if found:\n",
    "                break\n",
    "\n",
    "    if len(well_sequence) == 11:\n",
    "        test_image_sequences.append(torch.stack(well_sequence))  # (11, 3, 224, 224)\n",
    "        test_labels.append(pH - 5)  # Convert pH 5-8 to class 0-3"
   ]
  },
  {
   "cell_type": "code",
   "execution_count": 9,
   "id": "700bb3e0-4abc-45c5-b1a0-37461363e68c",
   "metadata": {},
   "outputs": [],
   "source": [
    "class HydrogelDataset(Dataset):\n",
    "    def __init__(self, sequences, labels):\n",
    "        self.sequences = sequences\n",
    "        self.labels = labels\n",
    "\n",
    "    def __len__(self):\n",
    "        return len(self.sequences)\n",
    "\n",
    "    def __getitem__(self, idx):\n",
    "        return self.sequences[idx], self.labels[idx]\n",
    "\n",
    "dataset = HydrogelDataset(image_sequences, labels)\n",
    "dataloader = DataLoader(dataset, batch_size=4, shuffle=True)\n",
    "test_dataset = HydrogelDataset(test_image_sequences, test_labels)\n",
    "test_dataloader = DataLoader(test_dataset, batch_size=4, shuffle=False)  # No need for shuffle during testing\n"
   ]
  },
  {
   "cell_type": "code",
   "execution_count": 10,
   "id": "647f0250-77ea-47ad-8f02-3e01c76267b3",
   "metadata": {},
   "outputs": [
    {
     "name": "stderr",
     "output_type": "stream",
     "text": [
      "/Users/tishabhavsar/anaconda3/lib/python3.11/site-packages/torchvision/models/_utils.py:208: UserWarning: The parameter 'pretrained' is deprecated since 0.13 and may be removed in the future, please use 'weights' instead.\n",
      "  warnings.warn(\n",
      "/Users/tishabhavsar/anaconda3/lib/python3.11/site-packages/torchvision/models/_utils.py:223: UserWarning: Arguments other than a weight enum or `None` for 'weights' are deprecated since 0.13 and may be removed in the future. The current behavior is equivalent to passing `weights=ResNet18_Weights.IMAGENET1K_V1`. You can also use `weights=ResNet18_Weights.DEFAULT` to get the most up-to-date weights.\n",
      "  warnings.warn(msg)\n"
     ]
    }
   ],
   "source": [
    "resnet = models.resnet18(pretrained=True)\n",
    "resnet.fc = nn.Identity()  # remove last FC layer\n",
    "resnet.eval()\n",
    "\n",
    "cnn_lstm = nn.Sequential(\n",
    "    nn.LSTM(input_size=512, hidden_size=256, num_layers=1, batch_first=True),\n",
    "    nn.Linear(256, 4)  # 4 pH classes\n",
    ")\n"
   ]
  },
  {
   "cell_type": "code",
   "execution_count": 11,
   "id": "8ce2dc13-78c0-494a-acb1-53e5bacec32d",
   "metadata": {},
   "outputs": [
    {
     "name": "stderr",
     "output_type": "stream",
     "text": [
      "100%|███████████████████████████████████████████| 14/14 [00:05<00:00,  2.64it/s]\n"
     ]
    },
    {
     "name": "stdout",
     "output_type": "stream",
     "text": [
      "Epoch 1, Loss: 1.7100\n"
     ]
    },
    {
     "name": "stderr",
     "output_type": "stream",
     "text": [
      "100%|███████████████████████████████████████████| 14/14 [00:05<00:00,  2.65it/s]\n"
     ]
    },
    {
     "name": "stdout",
     "output_type": "stream",
     "text": [
      "Epoch 2, Loss: 1.4257\n"
     ]
    },
    {
     "name": "stderr",
     "output_type": "stream",
     "text": [
      "100%|███████████████████████████████████████████| 14/14 [00:05<00:00,  2.69it/s]\n"
     ]
    },
    {
     "name": "stdout",
     "output_type": "stream",
     "text": [
      "Epoch 3, Loss: 1.2956\n"
     ]
    },
    {
     "name": "stderr",
     "output_type": "stream",
     "text": [
      "100%|███████████████████████████████████████████| 14/14 [00:05<00:00,  2.67it/s]\n"
     ]
    },
    {
     "name": "stdout",
     "output_type": "stream",
     "text": [
      "Epoch 4, Loss: 1.4718\n"
     ]
    },
    {
     "name": "stderr",
     "output_type": "stream",
     "text": [
      "100%|███████████████████████████████████████████| 14/14 [00:05<00:00,  2.63it/s]\n"
     ]
    },
    {
     "name": "stdout",
     "output_type": "stream",
     "text": [
      "Epoch 5, Loss: 0.8031\n"
     ]
    },
    {
     "name": "stderr",
     "output_type": "stream",
     "text": [
      "100%|███████████████████████████████████████████| 14/14 [00:05<00:00,  2.66it/s]\n"
     ]
    },
    {
     "name": "stdout",
     "output_type": "stream",
     "text": [
      "Epoch 6, Loss: 1.2788\n"
     ]
    },
    {
     "name": "stderr",
     "output_type": "stream",
     "text": [
      "100%|███████████████████████████████████████████| 14/14 [00:05<00:00,  2.64it/s]\n"
     ]
    },
    {
     "name": "stdout",
     "output_type": "stream",
     "text": [
      "Epoch 7, Loss: 1.6629\n"
     ]
    },
    {
     "name": "stderr",
     "output_type": "stream",
     "text": [
      "100%|███████████████████████████████████████████| 14/14 [00:05<00:00,  2.67it/s]\n"
     ]
    },
    {
     "name": "stdout",
     "output_type": "stream",
     "text": [
      "Epoch 8, Loss: 0.7303\n"
     ]
    },
    {
     "name": "stderr",
     "output_type": "stream",
     "text": [
      "100%|███████████████████████████████████████████| 14/14 [00:05<00:00,  2.63it/s]\n"
     ]
    },
    {
     "name": "stdout",
     "output_type": "stream",
     "text": [
      "Epoch 9, Loss: 1.3000\n"
     ]
    },
    {
     "name": "stderr",
     "output_type": "stream",
     "text": [
      "100%|███████████████████████████████████████████| 14/14 [00:05<00:00,  2.69it/s]\n"
     ]
    },
    {
     "name": "stdout",
     "output_type": "stream",
     "text": [
      "Epoch 10, Loss: 0.3684\n"
     ]
    },
    {
     "name": "stderr",
     "output_type": "stream",
     "text": [
      "100%|███████████████████████████████████████████| 14/14 [00:05<00:00,  2.67it/s]\n"
     ]
    },
    {
     "name": "stdout",
     "output_type": "stream",
     "text": [
      "Epoch 11, Loss: 0.9979\n"
     ]
    },
    {
     "name": "stderr",
     "output_type": "stream",
     "text": [
      "100%|███████████████████████████████████████████| 14/14 [00:05<00:00,  2.67it/s]\n"
     ]
    },
    {
     "name": "stdout",
     "output_type": "stream",
     "text": [
      "Epoch 12, Loss: 0.4910\n"
     ]
    },
    {
     "name": "stderr",
     "output_type": "stream",
     "text": [
      "100%|███████████████████████████████████████████| 14/14 [00:05<00:00,  2.67it/s]\n"
     ]
    },
    {
     "name": "stdout",
     "output_type": "stream",
     "text": [
      "Epoch 13, Loss: 0.5040\n"
     ]
    },
    {
     "name": "stderr",
     "output_type": "stream",
     "text": [
      "100%|███████████████████████████████████████████| 14/14 [00:05<00:00,  2.69it/s]\n"
     ]
    },
    {
     "name": "stdout",
     "output_type": "stream",
     "text": [
      "Epoch 14, Loss: 0.4476\n"
     ]
    },
    {
     "name": "stderr",
     "output_type": "stream",
     "text": [
      "100%|███████████████████████████████████████████| 14/14 [00:05<00:00,  2.65it/s]\n"
     ]
    },
    {
     "name": "stdout",
     "output_type": "stream",
     "text": [
      "Epoch 15, Loss: 0.0997\n"
     ]
    },
    {
     "name": "stderr",
     "output_type": "stream",
     "text": [
      "100%|███████████████████████████████████████████| 14/14 [00:05<00:00,  2.66it/s]\n"
     ]
    },
    {
     "name": "stdout",
     "output_type": "stream",
     "text": [
      "Epoch 16, Loss: 0.3211\n"
     ]
    },
    {
     "name": "stderr",
     "output_type": "stream",
     "text": [
      "100%|███████████████████████████████████████████| 14/14 [00:05<00:00,  2.68it/s]\n"
     ]
    },
    {
     "name": "stdout",
     "output_type": "stream",
     "text": [
      "Epoch 17, Loss: 0.1263\n"
     ]
    },
    {
     "name": "stderr",
     "output_type": "stream",
     "text": [
      "100%|███████████████████████████████████████████| 14/14 [00:05<00:00,  2.67it/s]\n"
     ]
    },
    {
     "name": "stdout",
     "output_type": "stream",
     "text": [
      "Epoch 18, Loss: 0.3005\n"
     ]
    },
    {
     "name": "stderr",
     "output_type": "stream",
     "text": [
      "100%|███████████████████████████████████████████| 14/14 [00:05<00:00,  2.67it/s]\n"
     ]
    },
    {
     "name": "stdout",
     "output_type": "stream",
     "text": [
      "Epoch 19, Loss: 0.2671\n"
     ]
    },
    {
     "name": "stderr",
     "output_type": "stream",
     "text": [
      "100%|███████████████████████████████████████████| 14/14 [00:05<00:00,  2.64it/s]"
     ]
    },
    {
     "name": "stdout",
     "output_type": "stream",
     "text": [
      "Epoch 20, Loss: 0.5535\n"
     ]
    },
    {
     "name": "stderr",
     "output_type": "stream",
     "text": [
      "\n"
     ]
    }
   ],
   "source": [
    "device = torch.device(\"cuda\" if torch.cuda.is_available() else \"cpu\")\n",
    "resnet = resnet.to(device)\n",
    "cnn_lstm = cnn_lstm.to(device)\n",
    "\n",
    "criterion = nn.CrossEntropyLoss()\n",
    "optimizer = torch.optim.Adam(cnn_lstm.parameters(), lr=1e-4)\n",
    "\n",
    "for epoch in range(20):\n",
    "    for seqs, lbls in tqdm(dataloader):\n",
    "        batch_size = seqs.shape[0]\n",
    "        seqs = seqs.to(device)  # (B, 11, 3, 224, 224)\n",
    "        lbls = lbls.to(device)\n",
    "\n",
    "        features = []\n",
    "        for t in range(seqs.shape[1]):\n",
    "            img_batch = seqs[:, t, :, :, :]  # (B, 3, 224, 224)\n",
    "            with torch.no_grad():\n",
    "                feat = resnet(img_batch)  # (B, 512)\n",
    "            features.append(feat)\n",
    "\n",
    "        features = torch.stack(features, dim=1)  # (B, 11, 512)\n",
    "\n",
    "        outputs, _ = cnn_lstm[0](features)  # LSTM\n",
    "        final_out = outputs[:, -1, :]  # last timestep\n",
    "        preds = cnn_lstm[1](final_out)  # FC Layer\n",
    "\n",
    "        loss = criterion(preds, lbls)\n",
    "\n",
    "        optimizer.zero_grad()\n",
    "        loss.backward()\n",
    "        optimizer.step()\n",
    "\n",
    "    print(f\"Epoch {epoch+1}, Loss: {loss.item():.4f}\")\n"
   ]
  },
  {
   "cell_type": "code",
   "execution_count": 12,
   "id": "3d89ddc8-eadc-4ba7-8fb8-e5bae161000c",
   "metadata": {},
   "outputs": [
    {
     "data": {
      "text/plain": [
       "ResNet(\n",
       "  (conv1): Conv2d(3, 64, kernel_size=(7, 7), stride=(2, 2), padding=(3, 3), bias=False)\n",
       "  (bn1): BatchNorm2d(64, eps=1e-05, momentum=0.1, affine=True, track_running_stats=True)\n",
       "  (relu): ReLU(inplace=True)\n",
       "  (maxpool): MaxPool2d(kernel_size=3, stride=2, padding=1, dilation=1, ceil_mode=False)\n",
       "  (layer1): Sequential(\n",
       "    (0): BasicBlock(\n",
       "      (conv1): Conv2d(64, 64, kernel_size=(3, 3), stride=(1, 1), padding=(1, 1), bias=False)\n",
       "      (bn1): BatchNorm2d(64, eps=1e-05, momentum=0.1, affine=True, track_running_stats=True)\n",
       "      (relu): ReLU(inplace=True)\n",
       "      (conv2): Conv2d(64, 64, kernel_size=(3, 3), stride=(1, 1), padding=(1, 1), bias=False)\n",
       "      (bn2): BatchNorm2d(64, eps=1e-05, momentum=0.1, affine=True, track_running_stats=True)\n",
       "    )\n",
       "    (1): BasicBlock(\n",
       "      (conv1): Conv2d(64, 64, kernel_size=(3, 3), stride=(1, 1), padding=(1, 1), bias=False)\n",
       "      (bn1): BatchNorm2d(64, eps=1e-05, momentum=0.1, affine=True, track_running_stats=True)\n",
       "      (relu): ReLU(inplace=True)\n",
       "      (conv2): Conv2d(64, 64, kernel_size=(3, 3), stride=(1, 1), padding=(1, 1), bias=False)\n",
       "      (bn2): BatchNorm2d(64, eps=1e-05, momentum=0.1, affine=True, track_running_stats=True)\n",
       "    )\n",
       "  )\n",
       "  (layer2): Sequential(\n",
       "    (0): BasicBlock(\n",
       "      (conv1): Conv2d(64, 128, kernel_size=(3, 3), stride=(2, 2), padding=(1, 1), bias=False)\n",
       "      (bn1): BatchNorm2d(128, eps=1e-05, momentum=0.1, affine=True, track_running_stats=True)\n",
       "      (relu): ReLU(inplace=True)\n",
       "      (conv2): Conv2d(128, 128, kernel_size=(3, 3), stride=(1, 1), padding=(1, 1), bias=False)\n",
       "      (bn2): BatchNorm2d(128, eps=1e-05, momentum=0.1, affine=True, track_running_stats=True)\n",
       "      (downsample): Sequential(\n",
       "        (0): Conv2d(64, 128, kernel_size=(1, 1), stride=(2, 2), bias=False)\n",
       "        (1): BatchNorm2d(128, eps=1e-05, momentum=0.1, affine=True, track_running_stats=True)\n",
       "      )\n",
       "    )\n",
       "    (1): BasicBlock(\n",
       "      (conv1): Conv2d(128, 128, kernel_size=(3, 3), stride=(1, 1), padding=(1, 1), bias=False)\n",
       "      (bn1): BatchNorm2d(128, eps=1e-05, momentum=0.1, affine=True, track_running_stats=True)\n",
       "      (relu): ReLU(inplace=True)\n",
       "      (conv2): Conv2d(128, 128, kernel_size=(3, 3), stride=(1, 1), padding=(1, 1), bias=False)\n",
       "      (bn2): BatchNorm2d(128, eps=1e-05, momentum=0.1, affine=True, track_running_stats=True)\n",
       "    )\n",
       "  )\n",
       "  (layer3): Sequential(\n",
       "    (0): BasicBlock(\n",
       "      (conv1): Conv2d(128, 256, kernel_size=(3, 3), stride=(2, 2), padding=(1, 1), bias=False)\n",
       "      (bn1): BatchNorm2d(256, eps=1e-05, momentum=0.1, affine=True, track_running_stats=True)\n",
       "      (relu): ReLU(inplace=True)\n",
       "      (conv2): Conv2d(256, 256, kernel_size=(3, 3), stride=(1, 1), padding=(1, 1), bias=False)\n",
       "      (bn2): BatchNorm2d(256, eps=1e-05, momentum=0.1, affine=True, track_running_stats=True)\n",
       "      (downsample): Sequential(\n",
       "        (0): Conv2d(128, 256, kernel_size=(1, 1), stride=(2, 2), bias=False)\n",
       "        (1): BatchNorm2d(256, eps=1e-05, momentum=0.1, affine=True, track_running_stats=True)\n",
       "      )\n",
       "    )\n",
       "    (1): BasicBlock(\n",
       "      (conv1): Conv2d(256, 256, kernel_size=(3, 3), stride=(1, 1), padding=(1, 1), bias=False)\n",
       "      (bn1): BatchNorm2d(256, eps=1e-05, momentum=0.1, affine=True, track_running_stats=True)\n",
       "      (relu): ReLU(inplace=True)\n",
       "      (conv2): Conv2d(256, 256, kernel_size=(3, 3), stride=(1, 1), padding=(1, 1), bias=False)\n",
       "      (bn2): BatchNorm2d(256, eps=1e-05, momentum=0.1, affine=True, track_running_stats=True)\n",
       "    )\n",
       "  )\n",
       "  (layer4): Sequential(\n",
       "    (0): BasicBlock(\n",
       "      (conv1): Conv2d(256, 512, kernel_size=(3, 3), stride=(2, 2), padding=(1, 1), bias=False)\n",
       "      (bn1): BatchNorm2d(512, eps=1e-05, momentum=0.1, affine=True, track_running_stats=True)\n",
       "      (relu): ReLU(inplace=True)\n",
       "      (conv2): Conv2d(512, 512, kernel_size=(3, 3), stride=(1, 1), padding=(1, 1), bias=False)\n",
       "      (bn2): BatchNorm2d(512, eps=1e-05, momentum=0.1, affine=True, track_running_stats=True)\n",
       "      (downsample): Sequential(\n",
       "        (0): Conv2d(256, 512, kernel_size=(1, 1), stride=(2, 2), bias=False)\n",
       "        (1): BatchNorm2d(512, eps=1e-05, momentum=0.1, affine=True, track_running_stats=True)\n",
       "      )\n",
       "    )\n",
       "    (1): BasicBlock(\n",
       "      (conv1): Conv2d(512, 512, kernel_size=(3, 3), stride=(1, 1), padding=(1, 1), bias=False)\n",
       "      (bn1): BatchNorm2d(512, eps=1e-05, momentum=0.1, affine=True, track_running_stats=True)\n",
       "      (relu): ReLU(inplace=True)\n",
       "      (conv2): Conv2d(512, 512, kernel_size=(3, 3), stride=(1, 1), padding=(1, 1), bias=False)\n",
       "      (bn2): BatchNorm2d(512, eps=1e-05, momentum=0.1, affine=True, track_running_stats=True)\n",
       "    )\n",
       "  )\n",
       "  (avgpool): AdaptiveAvgPool2d(output_size=(1, 1))\n",
       "  (fc): Identity()\n",
       ")"
      ]
     },
     "execution_count": 12,
     "metadata": {},
     "output_type": "execute_result"
    }
   ],
   "source": [
    "cnn_lstm.eval()\n",
    "resnet.eval()"
   ]
  },
  {
   "cell_type": "code",
   "execution_count": 13,
   "id": "5f1f3f00-aeb2-4028-8bd4-d6323813b2cf",
   "metadata": {},
   "outputs": [
    {
     "name": "stdout",
     "output_type": "stream",
     "text": [
      "Test Accuracy: 78.95%\n"
     ]
    }
   ],
   "source": [
    "correct = 0\n",
    "total = 0\n",
    "\n",
    "with torch.no_grad():\n",
    "    for seqs, lbls in test_dataloader:  # replace with test_dataloader if you have one\n",
    "        seqs = seqs.to(device)\n",
    "        lbls = lbls.to(device)\n",
    "\n",
    "        features = []\n",
    "        for t in range(seqs.shape[1]):\n",
    "            img_batch = seqs[:, t, :, :, :]\n",
    "            feat = resnet(img_batch)\n",
    "            features.append(feat)\n",
    "\n",
    "        features = torch.stack(features, dim=1)  # (B, 11, 512)\n",
    "\n",
    "        outputs, _ = cnn_lstm[0](features)\n",
    "        final_out = outputs[:, -1, :]\n",
    "        preds = cnn_lstm[1](final_out)\n",
    "\n",
    "        _, predicted = torch.max(preds.data, 1)\n",
    "        total += lbls.size(0)\n",
    "        correct += (predicted == lbls).sum().item()\n",
    "\n",
    "print(f\"Test Accuracy: {100 * correct / total:.2f}%\")"
   ]
  },
  {
   "cell_type": "code",
   "execution_count": 15,
   "id": "21d1769b-81e0-41fa-9792-9a15400f1fc1",
   "metadata": {},
   "outputs": [
    {
     "data": {
      "image/png": "[encoded data removed]",
      "text/plain": [
       "<Figure size 640x480 with 2 Axes>"
      ]
     },
     "metadata": {},
     "output_type": "display_data"
    }
   ],
   "source": [
    "from sklearn.metrics import confusion_matrix, ConfusionMatrixDisplay\n",
    "\n",
    "all_preds = []\n",
    "all_lbls = []\n",
    "\n",
    "with torch.no_grad():\n",
    "    for seqs, lbls in test_dataloader:\n",
    "        seqs = seqs.to(device)\n",
    "        lbls = lbls.to(device)\n",
    "        features = []\n",
    "        for t in range(seqs.shape[1]):\n",
    "            feat = resnet(seqs[:, t, :, :, :])\n",
    "            features.append(feat)\n",
    "        features = torch.stack(features, dim=1)\n",
    "        outputs, _ = cnn_lstm[0](features)\n",
    "        final_out = outputs[:, -1, :]\n",
    "        preds = cnn_lstm[1](final_out)\n",
    "        _, predicted = torch.max(preds.data, 1)\n",
    "\n",
    "        all_preds.extend(predicted.cpu().numpy())\n",
    "        all_lbls.extend(lbls.cpu().numpy())\n",
    "\n",
    "# Plot\n",
    "cm = confusion_matrix(all_lbls, all_preds)\n",
    "disp = ConfusionMatrixDisplay(confusion_matrix=cm, display_labels=[\"pH 5\", \"pH 6\", \"pH 7\", \"pH 8\"])\n",
    "disp.plot(cmap='Blues')\n",
    "plt.title(\"Confusion Matrix\")\n",
    "plt.show()"
   ]
  },
  {
   "cell_type": "code",
   "execution_count": null,
   "id": "7c5e2b60-8105-4370-80d8-6f9bc6fb3f9b",
   "metadata": {},
   "outputs": [],
   "source": []
  }
 ],
 "metadata": {
  "kernelspec": {
   "display_name": "Python 3 (ipykernel)",
   "language": "python",
   "name": "python3"
  },
  "language_info": {
   "codemirror_mode": {
    "name": "ipython",
    "version": 3
   },
   "file_extension": ".py",
   "mimetype": "text/x-python",
   "name": "python",
   "nbconvert_exporter": "python",
   "pygments_lexer": "ipython3",
   "version": "3.11.4"
  }
 },
 "nbformat": 4,
 "nbformat_minor": 5
}
