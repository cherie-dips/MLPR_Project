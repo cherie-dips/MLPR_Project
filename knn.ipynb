{
 "cells": [
  {
   "cell_type": "code",
   "execution_count": 4,
   "metadata": {},
   "outputs": [
    {
     "name": "stdout",
     "output_type": "stream",
     "text": [
      "\n",
      "👟 Training K-Nearest Neighbors with GridSearchCV...\n",
      "Fitting 5 folds for each of 16 candidates, totalling 80 fits\n",
      "✅ Best KNN parameters: {'metric': 'manhattan', 'n_neighbors': 3, 'weights': 'distance'}\n",
      "\n",
      "🔍 KNN Validation Metrics:\n",
      "              precision    recall  f1-score   support\n",
      "\n",
      "           5       0.65      0.73      0.68        55\n",
      "           6       0.72      0.61      0.66        71\n",
      "           7       0.53      0.58      0.56        60\n",
      "           8       0.61      0.59      0.60        61\n",
      "\n",
      "    accuracy                           0.62       247\n",
      "   macro avg       0.63      0.63      0.62       247\n",
      "weighted avg       0.63      0.62      0.62       247\n",
      "\n",
      "✅ Validation Accuracy: 0.6234817813765182\n",
      "\n",
      "📊 KNN Test Metrics:\n",
      "              precision    recall  f1-score   support\n",
      "\n",
      "           5       0.73      0.76      0.75        79\n",
      "           6       0.74      0.75      0.75        69\n",
      "           7       0.57      0.58      0.57        74\n",
      "           8       0.68      0.63      0.65        87\n",
      "\n",
      "    accuracy                           0.68       309\n",
      "   macro avg       0.68      0.68      0.68       309\n",
      "weighted avg       0.68      0.68      0.68       309\n",
      "\n",
      "✅ Test Accuracy: 0.6796116504854369\n"
     ]
    },
    {
     "name": "stderr",
     "output_type": "stream",
     "text": [
      "/Users/lipisinghal/.pyenv/versions/3.10.13/lib/python3.10/site-packages/IPython/core/pylabtools.py:170: UserWarning: Glyph 129514 (\\N{TEST TUBE}) missing from font(s) DejaVu Sans.\n",
      "  fig.canvas.print_figure(bytes_io, **kw)\n"
     ]
    },
    {
     "data": {
      "image/png": "[encoded data removed]",
      "text/plain": [
       "<Figure size 800x600 with 2 Axes>"
      ]
     },
     "metadata": {},
     "output_type": "display_data"
    }
   ],
   "source": [
    "import os\n",
    "import cv2\n",
    "import numpy as np\n",
    "import re\n",
    "from sklearn.ensemble import RandomForestClassifier\n",
    "from sklearn.neighbors import KNeighborsClassifier\n",
    "from sklearn.model_selection import train_test_split, GridSearchCV\n",
    "from sklearn.metrics import classification_report, confusion_matrix, accuracy_score\n",
    "import matplotlib.pyplot as plt\n",
    "import seaborn as sns\n",
    "\n",
    "# Function to extract color histogram features\n",
    "def extract_features(image_path):\n",
    "    image = cv2.imread(image_path)\n",
    "    if image is None:\n",
    "        print(f\"Could not read image: {image_path}\")\n",
    "        return None\n",
    "    image = cv2.resize(image, (128, 128))  # Resize to standard size\n",
    "    hsv = cv2.cvtColor(image, cv2.COLOR_BGR2HSV)\n",
    "    hist = cv2.calcHist([hsv], [0, 1, 2], None, [8, 8, 8],\n",
    "                        [0, 180, 0, 256, 0, 256])\n",
    "    return cv2.normalize(hist, hist).flatten()\n",
    "\n",
    "# Main paths\n",
    "main_dir = \"Split_Data\"\n",
    "data = []\n",
    "labels = []\n",
    "\n",
    "# Load image data and labels\n",
    "for phase in [\"train\", \"test\"]:\n",
    "    phase_path = os.path.join(main_dir, phase)\n",
    "    for root, dirs, files in os.walk(phase_path):\n",
    "        for file in files:\n",
    "            if file.lower().endswith((\".jpg\", \".jpeg\", \".png\")):\n",
    "                full_path = os.path.join(root, file)\n",
    "\n",
    "                # Extract pH value from filename\n",
    "                match = re.search(r'pH(\\d+)', file)\n",
    "                if match:\n",
    "                    pH = int(match.group(1))\n",
    "                    features = extract_features(full_path)\n",
    "                    if features is not None:\n",
    "                        data.append(features)\n",
    "                        labels.append(pH)\n",
    "                else:\n",
    "                    print(f\"Could not extract pH from: {file}\")\n",
    "\n",
    "# Convert to arrays\n",
    "X = np.array(data)\n",
    "y = np.array(labels)\n",
    "\n",
    "# Train/validation/test split\n",
    "X_trainval, X_test, y_trainval, y_test = train_test_split(X, y, test_size=0.2, random_state=42)\n",
    "X_train, X_val, y_train, y_val = train_test_split(X_trainval, y_trainval, test_size=0.2, random_state=42)\n",
    "\n",
    "\n",
    "# -------------------------- K-Nearest Neighbors --------------------------\n",
    "print(\"\\n👟 Training K-Nearest Neighbors with GridSearchCV...\")\n",
    "param_grid_knn = {\n",
    "    'n_neighbors': [3, 5, 7, 9],\n",
    "    'weights': ['uniform', 'distance'],\n",
    "    'metric': ['euclidean', 'manhattan']\n",
    "}\n",
    "\n",
    "knn = KNeighborsClassifier()\n",
    "grid_search_knn = GridSearchCV(knn, param_grid_knn, cv=5, n_jobs=-1, verbose=1)\n",
    "grid_search_knn.fit(X_train, y_train)\n",
    "\n",
    "best_knn = grid_search_knn.best_estimator_\n",
    "print(f\"✅ Best KNN parameters: {grid_search_knn.best_params_}\")\n",
    "\n",
    "# Validation evaluation - KNN\n",
    "val_preds_knn = best_knn.predict(X_val)\n",
    "print(\"\\n🔍 KNN Validation Metrics:\")\n",
    "print(classification_report(y_val, val_preds_knn))\n",
    "print(\"✅ Validation Accuracy:\", accuracy_score(y_val, val_preds_knn))\n",
    "\n",
    "# Test evaluation - KNN\n",
    "test_preds_knn = best_knn.predict(X_test)\n",
    "print(\"\\n📊 KNN Test Metrics:\")\n",
    "print(classification_report(y_test, test_preds_knn))\n",
    "print(\"✅ Test Accuracy:\", accuracy_score(y_test, test_preds_knn))\n",
    "\n",
    "# Confusion matrix - KNN\n",
    "conf_mat_knn = confusion_matrix(y_test, test_preds_knn)\n",
    "plt.figure(figsize=(8, 6))\n",
    "sns.heatmap(conf_mat_knn, annot=True, fmt='d', cmap='Greens')\n",
    "plt.title(\"🧪 KNN Test Confusion Matrix\")\n",
    "plt.xlabel(\"Predicted Label\")\n",
    "plt.ylabel(\"True Label\")\n",
    "plt.show()\n"
   ]
  },
  {
   "cell_type": "code",
   "execution_count": 3,
   "metadata": {},
   "outputs": [
    {
     "name": "stdout",
     "output_type": "stream",
     "text": [
      "Collecting opencv-python\n",
      "  Using cached opencv_python-4.11.0.86-cp37-abi3-macosx_13_0_arm64.whl (37.3 MB)\n",
      "Requirement already satisfied: numpy>=1.21.4 in /Users/lipisinghal/.pyenv/versions/3.10.13/lib/python3.10/site-packages (from opencv-python) (2.2.5)\n",
      "Installing collected packages: opencv-python\n",
      "Successfully installed opencv-python-4.11.0.86\n",
      "\u001b[33mWARNING: There was an error checking the latest version of pip.\u001b[0m\u001b[33m\n",
      "\u001b[0mNote: you may need to restart the kernel to use updated packages.\n"
     ]
    }
   ],
   "source": [
    "pip install opencv-python\n"
   ]
  },
  {
   "cell_type": "code",
   "execution_count": null,
   "metadata": {},
   "outputs": [],
   "source": []
  }
 ],
 "metadata": {
  "kernelspec": {
   "display_name": "Python 3",
   "language": "python",
   "name": "python3"
  },
  "language_info": {
   "codemirror_mode": {
    "name": "ipython",
    "version": 3
   },
   "file_extension": ".py",
   "mimetype": "text/x-python",
   "name": "python",
   "nbconvert_exporter": "python",
   "pygments_lexer": "ipython3",
   "version": "3.10.13"
  }
 },
 "nbformat": 4,
 "nbformat_minor": 2
}
