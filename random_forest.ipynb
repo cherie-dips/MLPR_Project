{
 "cells": [
  {
   "cell_type": "code",
   "execution_count": 10,
   "metadata": {},
   "outputs": [
    {
     "name": "stdout",
     "output_type": "stream",
     "text": [
      "🔍 Validation Metrics:\n",
      "              precision    recall  f1-score   support\n",
      "\n",
      "           5       0.74      0.91      0.81        55\n",
      "           6       0.80      0.71      0.75        69\n",
      "           7       0.80      0.69      0.74        71\n",
      "           8       0.69      0.75      0.72        60\n",
      "\n",
      "    accuracy                           0.76       255\n",
      "   macro avg       0.76      0.76      0.76       255\n",
      "weighted avg       0.76      0.76      0.76       255\n",
      "\n",
      "✅ Validation Accuracy: 0.7568627450980392\n",
      "\n",
      "📊 Test Metrics:\n",
      "              precision    recall  f1-score   support\n",
      "\n",
      "           5       0.81      0.87      0.84        77\n",
      "           6       0.69      0.75      0.72        75\n",
      "           7       0.74      0.63      0.68        79\n",
      "           8       0.74      0.73      0.73        88\n",
      "\n",
      "    accuracy                           0.74       319\n",
      "   macro avg       0.74      0.74      0.74       319\n",
      "weighted avg       0.74      0.74      0.74       319\n",
      "\n",
      "✅ Test Accuracy: 0.7429467084639498\n"
     ]
    },
    {
     "name": "stderr",
     "output_type": "stream",
     "text": [
      "/Users/lipisinghal/.pyenv/versions/3.10.13/lib/python3.10/site-packages/IPython/core/pylabtools.py:170: UserWarning: Glyph 129514 (\\N{TEST TUBE}) missing from font(s) DejaVu Sans.\n",
      "  fig.canvas.print_figure(bytes_io, **kw)\n"
     ]
    },
    {
     "data": {
      "image/png": "[encoded data removed]",
      "text/plain": [
       "<Figure size 800x600 with 2 Axes>"
      ]
     },
     "metadata": {},
     "output_type": "display_data"
    }
   ],
   "source": [
    "import os\n",
    "import cv2\n",
    "import numpy as np\n",
    "import re\n",
    "from sklearn.ensemble import RandomForestClassifier\n",
    "from sklearn.model_selection import train_test_split\n",
    "from sklearn.metrics import classification_report, confusion_matrix, accuracy_score\n",
    "import matplotlib.pyplot as plt\n",
    "import seaborn as sns\n",
    "\n",
    "# Function to extract color histogram features\n",
    "def extract_features(image_path):\n",
    "    image = cv2.imread(image_path)\n",
    "    if image is None:\n",
    "        print(f\"Could not read image: {image_path}\")\n",
    "        return None\n",
    "    image = cv2.resize(image, (128, 128))  # Resize to standard size\n",
    "    hsv = cv2.cvtColor(image, cv2.COLOR_BGR2HSV)\n",
    "    hist = cv2.calcHist([hsv], [0, 1, 2], None, [8, 8, 8],\n",
    "                        [0, 180, 0, 256, 0, 256])\n",
    "    return cv2.normalize(hist, hist).flatten()\n",
    "\n",
    "# Main paths\n",
    "main_dir = \"Split_Data\"\n",
    "data = []\n",
    "labels = []\n",
    "\n",
    "# Load image data and labels\n",
    "for phase in [\"train\", \"test\"]:\n",
    "    phase_path = os.path.join(main_dir, phase)\n",
    "    for root, dirs, files in os.walk(phase_path):\n",
    "        for file in files:\n",
    "            if file.lower().endswith((\".jpg\", \".jpeg\", \".png\")):\n",
    "                full_path = os.path.join(root, file)\n",
    "\n",
    "                # Extract pH value from filename\n",
    "                match = re.search(r'pH(\\d+)', file)\n",
    "                if match:\n",
    "                    pH = int(match.group(1))\n",
    "                    features = extract_features(full_path)\n",
    "                    if features is not None:\n",
    "                        data.append(features)\n",
    "                        labels.append(pH)\n",
    "                else:\n",
    "                    print(f\"Could not extract pH from: {file}\")\n",
    "\n",
    "# Convert to arrays\n",
    "X = np.array(data)\n",
    "y = np.array(labels)\n",
    "\n",
    "# Train/validation/test split\n",
    "X_trainval, X_test, y_trainval, y_test = train_test_split(X, y, test_size=0.2, random_state=42)\n",
    "X_train, X_val, y_train, y_val = train_test_split(X_trainval, y_trainval, test_size=0.2, random_state=42)\n",
    "\n",
    "# Train the classifier\n",
    "clf = RandomForestClassifier(n_estimators=100, random_state=42)\n",
    "clf.fit(X_train, y_train)\n",
    "\n",
    "# Validation evaluation\n",
    "val_preds = clf.predict(X_val)\n",
    "print(\"🔍 Validation Metrics:\")\n",
    "print(classification_report(y_val, val_preds))\n",
    "print(\"✅ Validation Accuracy:\", accuracy_score(y_val, val_preds))\n",
    "\n",
    "# Test evaluation\n",
    "test_preds = clf.predict(X_test)\n",
    "print(\"\\n📊 Test Metrics:\")\n",
    "print(classification_report(y_test, test_preds))\n",
    "print(\"✅ Test Accuracy:\", accuracy_score(y_test, test_preds))\n",
    "\n",
    "# Confusion matrix\n",
    "conf_mat = confusion_matrix(y_test, test_preds)\n",
    "plt.figure(figsize=(8, 6))\n",
    "sns.heatmap(conf_mat, annot=True, fmt='d', cmap='Blues')\n",
    "plt.title(\"🧪 Test Confusion Matrix\")\n",
    "plt.xlabel(\"Predicted Label\")\n",
    "plt.ylabel(\"True Label\")\n",
    "plt.show()\n"
   ]
  },
  {
   "cell_type": "code",
   "execution_count": null,
   "metadata": {},
   "outputs": [],
   "source": []
  }
 ],
 "metadata": {
  "kernelspec": {
   "display_name": "Python 3",
   "language": "python",
   "name": "python3"
  },
  "language_info": {
   "codemirror_mode": {
    "name": "ipython",
    "version": 3
   },
   "file_extension": ".py",
   "mimetype": "text/x-python",
   "name": "python",
   "nbconvert_exporter": "python",
   "pygments_lexer": "ipython3",
   "version": "3.10.13"
  }
 },
 "nbformat": 4,
 "nbformat_minor": 2
}
